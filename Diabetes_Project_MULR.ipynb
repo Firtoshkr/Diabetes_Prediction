{
 "cells": [
  {
   "cell_type": "code",
   "execution_count": 1,
   "metadata": {},
   "outputs": [
    {
     "data": {
      "text/plain": [
       "(442,)"
      ]
     },
     "execution_count": 1,
     "metadata": {},
     "output_type": "execute_result"
    }
   ],
   "source": [
    "from sklearn.datasets import load_diabetes\n",
    "import numpy as np\n",
    "import pandas as pd\n",
    "import matplotlib.pyplot as plt\n",
    "boston = load_diabetes()\n",
    "X = boston.data\n",
    "y = boston.target\n",
    "y.shape"
   ]
  },
  {
   "cell_type": "code",
   "execution_count": 2,
   "metadata": {},
   "outputs": [],
   "source": [
    "u = np.mean(X)\n",
    "std = np.std(X)\n",
    "X = (X-u)/std"
   ]
  },
  {
   "cell_type": "code",
   "execution_count": 3,
   "metadata": {},
   "outputs": [],
   "source": [
    "ones = np.ones((X.shape[0],1))\n",
    "X = np.hstack((ones,X))"
   ]
  },
  {
   "cell_type": "code",
   "execution_count": 4,
   "metadata": {},
   "outputs": [],
   "source": [
    "def hypothesis(X,theta):\n",
    "    y_ = np.dot(X,theta)\n",
    "    return y_\n",
    "\n",
    "def error(X,y,theta):\n",
    "    m,n = X.shape\n",
    "    y_ = hypothesis(X,theta)\n",
    "    err = np.sum((y_-y)**2)\n",
    "    return err/m\n",
    "\n",
    "def gradient(X,y,theta):\n",
    "    m,n = X.shape\n",
    "    y_ = hypothesis(X,theta)\n",
    "    grad = np.dot((y_-y).T,X)\n",
    "    return grad/m\n",
    "\n",
    "def gradientDescent(X, y, learning_rate = 0.1, epoch = 500):\n",
    "    m,n = X.shape\n",
    "    theta = np.zeros((n,))\n",
    "    grad = np.zeros((n,))\n",
    "    err = []\n",
    "    for i in range(epoch):\n",
    "        er = error(X,y,theta)\n",
    "        err.append(er)\n",
    "        grad = gradient(X,y,theta)\n",
    "        theta = theta - learning_rate * grad\n",
    "    return err,theta\n",
    "    "
   ]
  },
  {
   "cell_type": "code",
   "execution_count": 5,
   "metadata": {},
   "outputs": [],
   "source": [
    "err,theta  = gradientDescent(X,y)"
   ]
  },
  {
   "cell_type": "code",
   "execution_count": 6,
   "metadata": {},
   "outputs": [
    {
     "data": {
      "text/plain": [
       "[<matplotlib.lines.Line2D at 0x1a736144fd0>]"
      ]
     },
     "execution_count": 6,
     "metadata": {},
     "output_type": "execute_result"
    },
    {
     "data": {
      "image/png": "[encoded data removed]",
      "text/plain": [
       "<Figure size 432x288 with 1 Axes>"
      ]
     },
     "metadata": {
      "needs_background": "light"
     },
     "output_type": "display_data"
    }
   ],
   "source": [
    "plt.plot(err)"
   ]
  },
  {
   "cell_type": "code",
   "execution_count": 7,
   "metadata": {},
   "outputs": [],
   "source": [
    "def r2_score(y,ypred):\n",
    "    ymean = y.mean()\n",
    "    num = np.sum((y-ypred)**2)\n",
    "    denum = np.sum((y-ymean)**2)\n",
    "    score = 1 - num/denum\n",
    "    return score"
   ]
  },
  {
   "cell_type": "code",
   "execution_count": 8,
   "metadata": {},
   "outputs": [],
   "source": [
    "ypred = hypothesis(X,theta)"
   ]
  },
  {
   "cell_type": "code",
   "execution_count": 9,
   "metadata": {},
   "outputs": [
    {
     "data": {
      "text/plain": [
       "0.5161462511905732"
      ]
     },
     "execution_count": 9,
     "metadata": {},
     "output_type": "execute_result"
    }
   ],
   "source": [
    "r2_score(y,ypred)"
   ]
  },
  {
   "cell_type": "code",
   "execution_count": 11,
   "metadata": {},
   "outputs": [
    {
     "name": "stdout",
     "output_type": "stream",
     "text": [
      "[204.47476261  69.55529426 175.07681621 164.42418534 128.09950505\n",
      " 105.93036319  77.4384869  121.47551832 159.41472688 214.10073378\n",
      " 100.08130938 101.65214924 114.67717452 162.50862854 101.89489467\n",
      " 174.02808846 209.72895569 182.15499172 146.79503536 122.52659771\n",
      " 118.82263925  89.83039951 116.98760375 269.02720684 164.12458471\n",
      " 145.38395301  96.58489086 178.16224138 127.97728405 183.70199674\n",
      " 159.2855885   69.37922314 256.63177582 107.86307846  80.11877183\n",
      "  83.86009956 207.07547071 155.08672839 242.13838826 135.82973968\n",
      " 153.11495347  73.60825213 143.85107402  78.43203372 218.03100383\n",
      " 124.09543823 140.63375893 107.63398025  76.40864003 186.40508574\n",
      " 157.67554629 167.69265199 133.59314457 157.62185132 140.66452911\n",
      "  73.59269609 205.64239852  79.79212993  97.19373928 133.95721925\n",
      " 114.80849152 176.23389657  65.60544128 100.27124882 112.79884409\n",
      " 186.23570477 145.59520918 123.78632055 112.84475871 123.3483288\n",
      "  75.45650858 235.95411045 146.56789634 122.8689964  150.455565\n",
      " 126.35403833 191.21168709  81.10755871 163.93219307  94.04425849\n",
      " 172.96200834 120.78257709  65.64607581 151.01133923  56.66148698\n",
      " 168.45478062  49.62088012 150.97264208  79.91672511 104.91709232\n",
      "  83.34284757 186.62951995 189.18508138  60.28382825 106.54088235\n",
      " 122.90470963 206.89161255 213.30577583 123.12081699 136.0746308\n",
      " 167.29845271 106.40060459 150.02173115 158.71755942 156.01373485\n",
      " 114.35104697  74.97377994 157.91948343 227.76687489 143.37477881\n",
      "  48.50228636 121.2532159  152.73418616 207.33279973 297.31508919\n",
      " 189.93705113 211.61237831 236.45581161 163.9391082  148.1198045\n",
      " 156.52328585 198.19997535 218.17699817 171.83275196 167.7297668\n",
      " 189.78307678  63.91150309 106.54690726  92.65459985 208.57836667\n",
      " 243.74772643  71.39108764 113.63077782  71.20202618 141.06176772\n",
      " 237.14069306  60.65537508 232.71675851 252.98344763 251.97438519\n",
      " 157.07887876 226.68763345 171.08890325 118.17174547 176.51723984\n",
      " 239.5659089  189.07979209 227.18675267 115.3259396  175.62532177\n",
      " 208.78416556 142.45744911 196.78997973 122.29517191 149.93449865\n",
      " 199.10794893 145.37582093 122.71578243  85.51834468 234.38935304\n",
      "  83.37227433 234.02733851 143.73412201 197.18294627 142.68521756\n",
      "  77.29208723  63.07335711 264.64175538 224.90724089 236.71814733\n",
      "  52.85807413  89.65142961 223.47776252  95.36641173 162.33690781\n",
      " 120.0594122  156.98929931 222.92198805 101.08850938 164.32566552\n",
      " 176.84160811  89.75490337 170.24881348 156.39924303 199.96210724\n",
      " 186.21046512 194.47211325  70.65910761 153.73590101 114.25643601\n",
      " 192.65533158 126.05568873  92.67499248 139.55954858 153.12100351\n",
      " 169.01460876  98.402133   188.28315109 147.78060535 180.81403254\n",
      "  95.76451675  71.0624467  169.15459583 195.32723346 175.7787643\n",
      " 227.08470249 158.84410065 212.00941755 221.06445484 171.00132976\n",
      " 126.69033589 175.5912602  151.48014294  98.49620584  97.28114197\n",
      " 261.44488373 219.19588069 220.50978772 130.76691957 141.70908318\n",
      "  60.68487759 140.52126235 152.58276863 122.94171991  77.48650024\n",
      " 229.33901155  79.02544615 105.10862181 117.01466076  99.05254274\n",
      " 168.21706231 157.03284874 156.49320161 141.75422301 231.6961236\n",
      " 174.77098464 185.68734111  66.80288506 186.23455021 180.09600729\n",
      " 232.71818006 120.14802671  89.73347101 101.07146373 140.91209576\n",
      " 101.31261295 119.77257973  79.60850414 234.48792183 246.25258691\n",
      " 265.3747172  276.52869401 179.55682706 202.26513972 265.3902788\n",
      " 116.07774954 265.74110524 102.03332117 115.85863877 141.82162404\n",
      "  60.90819189 125.04369441 261.73359039  48.9853112  127.33631283\n",
      " 129.23435884  38.57613341 137.27974456 241.79277247  86.5804875\n",
      " 189.79394281 163.85506765 146.62577055 199.7345318  174.28376942\n",
      " 156.38620353 190.44595149 113.9910633  110.19833138 116.78724988\n",
      " 163.4324116   94.09867115 139.53336493  87.00990343 158.11278278\n",
      " 198.97738661  74.90900524 146.91332602  83.56907414 191.04070403\n",
      " 219.725125   205.02483696  93.81818404 182.68138116  87.50617642\n",
      " 152.24240121  78.40544741 101.58135379 106.81623753 122.87549816\n",
      " 217.05798311 125.11279195 205.37161626 232.60953096 122.68058446\n",
      " 131.6925067  128.29496832 146.75690113  89.16671514 138.80873763\n",
      " 203.81188175 171.70967525 123.89050811 212.82730828 173.43647304\n",
      " 109.54698305 198.83638816 171.93582096 160.95911805 188.93928509\n",
      " 189.50214947 287.14180621 292.11450443 229.39564607 208.82311991\n",
      " 219.09937818 154.44873528 223.08267503 186.85031298 102.55472333\n",
      " 177.39100996 112.01132522 290.52359535 180.44904388  81.71889461\n",
      "  87.0305177  249.68272703 171.7422805  122.58854831 146.06301442\n",
      " 171.55648992 184.31580525 164.73157683 160.16506877 142.75309584\n",
      " 124.17132939 179.57536221 101.93535626 128.69824543  96.49852707\n",
      " 251.1197437   87.61111141  56.97328903 173.46323801 196.17284672\n",
      " 133.15964968  93.07476542 201.06217155  56.84020908 172.18921773\n",
      " 194.41677766 122.30563408 233.67705151 161.97628228 157.81289349\n",
      " 160.77374353 254.84051578 256.32234394 200.09033875 182.97953976\n",
      "  59.71043907 206.04440437 108.69549853 142.48625801 125.33893675\n",
      " 178.02567503 211.10791659 166.94779668 162.23339672 135.81380837\n",
      " 176.42703817  72.78600526 254.22806729 113.74577873 111.73676548\n",
      " 138.83440462 109.05089721  99.25889735 161.34617644  75.64942877\n",
      " 261.72342065  58.12132301 100.04372243 101.29567545 272.91825198\n",
      " 167.07730709  67.62195969 180.09392704 171.38132115 188.87677218\n",
      " 185.26052358  87.25108188 144.90613591 251.8888821  199.90177862\n",
      " 280.82771779  51.49944389 175.13239104 203.29349879 171.81861802\n",
      " 158.897023   153.08938145 231.37518731 122.31581155 164.60571061\n",
      " 169.39361933 227.48210605 151.76533236  99.37082248  83.38551923\n",
      " 140.5252388  190.09625891 199.71883814 149.93173216 169.12491088\n",
      " 109.65574912 161.1139529  130.76319862 259.15825385 100.96229627\n",
      " 114.48280462 120.33176986 218.44517501  60.62458994 133.59073143\n",
      " 120.29355059  53.66628505 192.1545462  102.1446673  123.17971526\n",
      " 210.33366986  48.34126701]\n"
     ]
    }
   ],
   "source": [
    "print(ypred)"
   ]
  },
  {
   "cell_type": "code",
   "execution_count": null,
   "metadata": {},
   "outputs": [],
   "source": []
  }
 ],
 "metadata": {
  "kernelspec": {
   "display_name": "Python 3",
   "language": "python",
   "name": "python3"
  },
  "language_info": {
   "codemirror_mode": {
    "name": "ipython",
    "version": 3
   },
   "file_extension": ".py",
   "mimetype": "text/x-python",
   "name": "python",
   "nbconvert_exporter": "python",
   "pygments_lexer": "ipython3",
   "version": "3.7.3"
  }
 },
 "nbformat": 4,
 "nbformat_minor": 2
}
